{
  "cells": [
    {
      "cell_type": "code",
      "execution_count": null,
      "metadata": {
        "id": "XkX8DWI8KO-r",
        "colab": {
          "base_uri": "https://localhost:8080/"
        },
        "outputId": "42656f51-a0cc-40c3-d571-3c1062950988"
      },
      "outputs": [
        {
          "output_type": "stream",
          "name": "stdout",
          "text": [
            "Mounted at /content/drive\n"
          ]
        }
      ],
      "source": [
        "from google.colab import drive\n",
        "drive.mount('/content/drive')"
      ]
    },
    {
      "cell_type": "code",
      "execution_count": null,
      "metadata": {
        "id": "U3uCqIHZ4EFs"
      },
      "outputs": [],
      "source": [
        "import numpy as np\n",
        "import pandas as pd\n",
        "%matplotlib inline\n",
        "import matplotlib.pyplot as plt\n",
        "import seaborn as sns\n",
        "from datetime import datetime\n",
        "import warnings \n",
        "import pickle\n",
        "warnings.filterwarnings(\"ignore\") \n",
        "from sklearn.preprocessing import LabelEncoder\n",
        "from sklearn.feature_selection import SelectKBest\n",
        "from sklearn.model_selection import train_test_split  \n",
        "from imblearn.over_sampling import SMOTE\n",
        "from sklearn.preprocessing import MinMaxScaler\n",
        "from sklearn.ensemble import RandomForestClassifier \n",
        "from sklearn.metrics import confusion_matrix, plot_confusion_matrix, r2_score\n",
        "from sklearn.linear_model import LinearRegression  \n",
        "from sklearn.metrics import roc_curve, auc\n",
        "from sklearn.metrics import classification_report\n",
        "from sklearn.model_selection import RandomizedSearchCV\n",
        "from sklearn import preprocessing\n",
        "from sklearn import metrics\n",
        "from sklearn.model_selection import GridSearchCV\n",
        "from sklearn.metrics import accuracy_score\n",
        "from sklearn.pipeline import Pipeline\n",
        "from sklearn.decomposition import PCA\n",
        "from sklearn.linear_model import Ridge\n",
        "from sklearn.datasets import load_boston\n",
        "from sklearn.preprocessing import StandardScaler\n",
        "  \n"
      ]
    },
    {
      "cell_type": "markdown",
      "source": [
        "###Importing Packages and Data"
      ],
      "metadata": {
        "id": "VAycG54UsC9y"
      }
    },
    {
      "cell_type": "code",
      "execution_count": null,
      "metadata": {
        "id": "U81fbZft4HE6"
      },
      "outputs": [],
      "source": [
        "df=pd.read_csv(\"/content/drive/MyDrive/Data Sets/LoanExport.csv\")"
      ]
    },
    {
      "cell_type": "markdown",
      "source": [
        "##1.EDA & Feature Engineering"
      ],
      "metadata": {
        "id": "TiqS3HTMsJ-Y"
      }
    },
    {
      "cell_type": "code",
      "execution_count": null,
      "metadata": {
        "id": "-mNVSOHl42A7"
      },
      "outputs": [],
      "source": [
        "df['MaturityDate']= pd.to_datetime(df['MaturityDate'], format = '%Y%m')\n",
        "df['FirstPaymentDate']= pd.to_datetime(df['FirstPaymentDate'], format = '%Y%m')"
      ]
    },
    {
      "cell_type": "code",
      "source": [
        "df['CreditScore'].replace(0,850,inplace = True)"
      ],
      "metadata": {
        "id": "npzZdp3hkvAu"
      },
      "execution_count": null,
      "outputs": []
    },
    {
      "cell_type": "code",
      "execution_count": null,
      "metadata": {
        "id": "b783BWU0BOVm"
      },
      "outputs": [],
      "source": [
        "df['CreditRange'] = pd.cut(df['CreditScore'], bins = [ 0, 650, 700, 750, 900 ], labels = ['poor', 'fair', 'good', 'excellent'])\n",
        "df['LTVRange'] = pd.cut(df['LTV'], bins = [ 0, 25, 50, 100 ], labels = ['low', 'medium', 'high'])\n",
        "df['RepayRange'] = pd.cut(df['MonthsInRepayment'], bins = [ 0, 48, 96, 144, 192, 240 ], labels = ['0-4', '4-8', '8-12', '12-16', '16-20'])\n",
        "df['LoanTenure'] = (df['MaturityDate'] - df['FirstPaymentDate']).dt.days\n",
        "df = df.astype({\"LoanTenure\": np.float})\n",
        "df['LoanTenure'] = df['LoanTenure'].div(365)"
      ]
    },
    {
      "cell_type": "code",
      "execution_count": null,
      "metadata": {
        "id": "TLCynQu7KwdM"
      },
      "outputs": [],
      "source": [
        "from sklearn.preprocessing import LabelEncoder\n",
        "le=LabelEncoder()\n",
        "df['CreditRange'] = le.fit_transform(df['CreditRange'])\n",
        "df['RepayRange'] = le.fit_transform(df['RepayRange'])\n",
        "df['LTVRange'] = le.fit_transform(df['LTVRange'])\n",
        "df['PPM'] = le.fit_transform(df['PPM'])"
      ]
    },
    {
      "cell_type": "code",
      "source": [
        "df"
      ],
      "metadata": {
        "colab": {
          "base_uri": "https://localhost:8080/",
          "height": 487
        },
        "id": "vyKJ8q1xmXDa",
        "outputId": "ca307f7e-01ad-465b-ec23-e2b9d2975d8b"
      },
      "execution_count": null,
      "outputs": [
        {
          "output_type": "execute_result",
          "data": {
            "text/plain": [
              "        CreditScore FirstPaymentDate FirstTimeHomebuyer MaturityDate    MSA  \\\n",
              "0               850       1999-02-01                  N   2029-01-01  16974   \n",
              "1               850       1999-02-01                  N   2029-01-01  19740   \n",
              "2               850       1999-02-01                  N   2029-01-01  29940   \n",
              "3               850       1999-02-01                  N   2029-01-01  31084   \n",
              "4               850       1999-02-01                  N   2029-01-01  35644   \n",
              "...             ...              ...                ...          ...    ...   \n",
              "291446          839       1999-03-01                  N   2029-02-01  37964   \n",
              "291447          840       2002-10-01                  N   2029-04-01  35644   \n",
              "291448          840       2003-04-01                  N   2029-04-01  42044   \n",
              "291449          845       1999-04-01                  N   2029-03-01  37964   \n",
              "291450          849       1999-03-01                  N   2029-02-01  37964   \n",
              "\n",
              "        MIP  Units Occupancy  OCLTV  DTI  ...  NumBorrowers  SellerName  \\\n",
              "0        25      1         O     89   27  ...             2          FL   \n",
              "1         0      1         O     73   17  ...             1          FT   \n",
              "2         0      1         O     75   16  ...             2          FL   \n",
              "3         0      1         O     76   14  ...             2          GM   \n",
              "4         0      1         O     78   18  ...             2          GM   \n",
              "...     ...    ...       ...    ...  ...  ...           ...         ...   \n",
              "291446    0      1         O     60   32  ...             2          Ot   \n",
              "291447    0      1         O     73    0  ...             2          Ot   \n",
              "291448    0      1         O     73   31  ...             1          Ot   \n",
              "291449    0      1         I     80   54  ...             2          Ot   \n",
              "291450    0      1         O     47   29  ...             2          Ot   \n",
              "\n",
              "                ServicerName EverDelinquent  MonthsDelinquent  \\\n",
              "0       WASHINGTONMUTUALBANK              0                 0   \n",
              "1       CHASEHOMEFINANCELLC               0                 0   \n",
              "2       WASHINGTONMUTUALBANK              0                 0   \n",
              "3       GMACMTGECORP                      0                 0   \n",
              "4       GMACMTGECORP                      0                 0   \n",
              "...                      ...            ...               ...   \n",
              "291446  Other servicers                   0                 0   \n",
              "291447  Other servicers                   0                 0   \n",
              "291448  Other servicers                   0                 0   \n",
              "291449  Other servicers                   0                 0   \n",
              "291450  Other servicers                   0                 0   \n",
              "\n",
              "       MonthsInRepayment CreditRange LTVRange RepayRange LoanTenure  \n",
              "0                     52           0        0          3  29.936986  \n",
              "1                    144           0        0          4  29.936986  \n",
              "2                     67           0        0          3  29.936986  \n",
              "3                     35           0        0          0  29.936986  \n",
              "4                     54           0        0          3  29.936986  \n",
              "...                  ...         ...      ...        ...        ...  \n",
              "291446                12           0        0          0  29.945205  \n",
              "291447                53           0        0          3  26.517808  \n",
              "291448                38           0        0          0  26.019178  \n",
              "291449                32           0        0          0  29.936986  \n",
              "291450                29           0        2          0  29.945205  \n",
              "\n",
              "[291451 rows x 32 columns]"
            ],
            "text/html": [
              "\n",
              "  <div id=\"df-71271964-a215-418a-9e41-c4049beadbba\">\n",
              "    <div class=\"colab-df-container\">\n",
              "      <div>\n",
              "<style scoped>\n",
              "    .dataframe tbody tr th:only-of-type {\n",
              "        vertical-align: middle;\n",
              "    }\n",
              "\n",
              "    .dataframe tbody tr th {\n",
              "        vertical-align: top;\n",
              "    }\n",
              "\n",
              "    .dataframe thead th {\n",
              "        text-align: right;\n",
              "    }\n",
              "</style>\n",
              "<table border=\"1\" class=\"dataframe\">\n",
              "  <thead>\n",
              "    <tr style=\"text-align: right;\">\n",
              "      <th></th>\n",
              "      <th>CreditScore</th>\n",
              "      <th>FirstPaymentDate</th>\n",
              "      <th>FirstTimeHomebuyer</th>\n",
              "      <th>MaturityDate</th>\n",
              "      <th>MSA</th>\n",
              "      <th>MIP</th>\n",
              "      <th>Units</th>\n",
              "      <th>Occupancy</th>\n",
              "      <th>OCLTV</th>\n",
              "      <th>DTI</th>\n",
              "      <th>...</th>\n",
              "      <th>NumBorrowers</th>\n",
              "      <th>SellerName</th>\n",
              "      <th>ServicerName</th>\n",
              "      <th>EverDelinquent</th>\n",
              "      <th>MonthsDelinquent</th>\n",
              "      <th>MonthsInRepayment</th>\n",
              "      <th>CreditRange</th>\n",
              "      <th>LTVRange</th>\n",
              "      <th>RepayRange</th>\n",
              "      <th>LoanTenure</th>\n",
              "    </tr>\n",
              "  </thead>\n",
              "  <tbody>\n",
              "    <tr>\n",
              "      <th>0</th>\n",
              "      <td>850</td>\n",
              "      <td>1999-02-01</td>\n",
              "      <td>N</td>\n",
              "      <td>2029-01-01</td>\n",
              "      <td>16974</td>\n",
              "      <td>25</td>\n",
              "      <td>1</td>\n",
              "      <td>O</td>\n",
              "      <td>89</td>\n",
              "      <td>27</td>\n",
              "      <td>...</td>\n",
              "      <td>2</td>\n",
              "      <td>FL</td>\n",
              "      <td>WASHINGTONMUTUALBANK</td>\n",
              "      <td>0</td>\n",
              "      <td>0</td>\n",
              "      <td>52</td>\n",
              "      <td>0</td>\n",
              "      <td>0</td>\n",
              "      <td>3</td>\n",
              "      <td>29.936986</td>\n",
              "    </tr>\n",
              "    <tr>\n",
              "      <th>1</th>\n",
              "      <td>850</td>\n",
              "      <td>1999-02-01</td>\n",
              "      <td>N</td>\n",
              "      <td>2029-01-01</td>\n",
              "      <td>19740</td>\n",
              "      <td>0</td>\n",
              "      <td>1</td>\n",
              "      <td>O</td>\n",
              "      <td>73</td>\n",
              "      <td>17</td>\n",
              "      <td>...</td>\n",
              "      <td>1</td>\n",
              "      <td>FT</td>\n",
              "      <td>CHASEHOMEFINANCELLC</td>\n",
              "      <td>0</td>\n",
              "      <td>0</td>\n",
              "      <td>144</td>\n",
              "      <td>0</td>\n",
              "      <td>0</td>\n",
              "      <td>4</td>\n",
              "      <td>29.936986</td>\n",
              "    </tr>\n",
              "    <tr>\n",
              "      <th>2</th>\n",
              "      <td>850</td>\n",
              "      <td>1999-02-01</td>\n",
              "      <td>N</td>\n",
              "      <td>2029-01-01</td>\n",
              "      <td>29940</td>\n",
              "      <td>0</td>\n",
              "      <td>1</td>\n",
              "      <td>O</td>\n",
              "      <td>75</td>\n",
              "      <td>16</td>\n",
              "      <td>...</td>\n",
              "      <td>2</td>\n",
              "      <td>FL</td>\n",
              "      <td>WASHINGTONMUTUALBANK</td>\n",
              "      <td>0</td>\n",
              "      <td>0</td>\n",
              "      <td>67</td>\n",
              "      <td>0</td>\n",
              "      <td>0</td>\n",
              "      <td>3</td>\n",
              "      <td>29.936986</td>\n",
              "    </tr>\n",
              "    <tr>\n",
              "      <th>3</th>\n",
              "      <td>850</td>\n",
              "      <td>1999-02-01</td>\n",
              "      <td>N</td>\n",
              "      <td>2029-01-01</td>\n",
              "      <td>31084</td>\n",
              "      <td>0</td>\n",
              "      <td>1</td>\n",
              "      <td>O</td>\n",
              "      <td>76</td>\n",
              "      <td>14</td>\n",
              "      <td>...</td>\n",
              "      <td>2</td>\n",
              "      <td>GM</td>\n",
              "      <td>GMACMTGECORP</td>\n",
              "      <td>0</td>\n",
              "      <td>0</td>\n",
              "      <td>35</td>\n",
              "      <td>0</td>\n",
              "      <td>0</td>\n",
              "      <td>0</td>\n",
              "      <td>29.936986</td>\n",
              "    </tr>\n",
              "    <tr>\n",
              "      <th>4</th>\n",
              "      <td>850</td>\n",
              "      <td>1999-02-01</td>\n",
              "      <td>N</td>\n",
              "      <td>2029-01-01</td>\n",
              "      <td>35644</td>\n",
              "      <td>0</td>\n",
              "      <td>1</td>\n",
              "      <td>O</td>\n",
              "      <td>78</td>\n",
              "      <td>18</td>\n",
              "      <td>...</td>\n",
              "      <td>2</td>\n",
              "      <td>GM</td>\n",
              "      <td>GMACMTGECORP</td>\n",
              "      <td>0</td>\n",
              "      <td>0</td>\n",
              "      <td>54</td>\n",
              "      <td>0</td>\n",
              "      <td>0</td>\n",
              "      <td>3</td>\n",
              "      <td>29.936986</td>\n",
              "    </tr>\n",
              "    <tr>\n",
              "      <th>...</th>\n",
              "      <td>...</td>\n",
              "      <td>...</td>\n",
              "      <td>...</td>\n",
              "      <td>...</td>\n",
              "      <td>...</td>\n",
              "      <td>...</td>\n",
              "      <td>...</td>\n",
              "      <td>...</td>\n",
              "      <td>...</td>\n",
              "      <td>...</td>\n",
              "      <td>...</td>\n",
              "      <td>...</td>\n",
              "      <td>...</td>\n",
              "      <td>...</td>\n",
              "      <td>...</td>\n",
              "      <td>...</td>\n",
              "      <td>...</td>\n",
              "      <td>...</td>\n",
              "      <td>...</td>\n",
              "      <td>...</td>\n",
              "      <td>...</td>\n",
              "    </tr>\n",
              "    <tr>\n",
              "      <th>291446</th>\n",
              "      <td>839</td>\n",
              "      <td>1999-03-01</td>\n",
              "      <td>N</td>\n",
              "      <td>2029-02-01</td>\n",
              "      <td>37964</td>\n",
              "      <td>0</td>\n",
              "      <td>1</td>\n",
              "      <td>O</td>\n",
              "      <td>60</td>\n",
              "      <td>32</td>\n",
              "      <td>...</td>\n",
              "      <td>2</td>\n",
              "      <td>Ot</td>\n",
              "      <td>Other servicers</td>\n",
              "      <td>0</td>\n",
              "      <td>0</td>\n",
              "      <td>12</td>\n",
              "      <td>0</td>\n",
              "      <td>0</td>\n",
              "      <td>0</td>\n",
              "      <td>29.945205</td>\n",
              "    </tr>\n",
              "    <tr>\n",
              "      <th>291447</th>\n",
              "      <td>840</td>\n",
              "      <td>2002-10-01</td>\n",
              "      <td>N</td>\n",
              "      <td>2029-04-01</td>\n",
              "      <td>35644</td>\n",
              "      <td>0</td>\n",
              "      <td>1</td>\n",
              "      <td>O</td>\n",
              "      <td>73</td>\n",
              "      <td>0</td>\n",
              "      <td>...</td>\n",
              "      <td>2</td>\n",
              "      <td>Ot</td>\n",
              "      <td>Other servicers</td>\n",
              "      <td>0</td>\n",
              "      <td>0</td>\n",
              "      <td>53</td>\n",
              "      <td>0</td>\n",
              "      <td>0</td>\n",
              "      <td>3</td>\n",
              "      <td>26.517808</td>\n",
              "    </tr>\n",
              "    <tr>\n",
              "      <th>291448</th>\n",
              "      <td>840</td>\n",
              "      <td>2003-04-01</td>\n",
              "      <td>N</td>\n",
              "      <td>2029-04-01</td>\n",
              "      <td>42044</td>\n",
              "      <td>0</td>\n",
              "      <td>1</td>\n",
              "      <td>O</td>\n",
              "      <td>73</td>\n",
              "      <td>31</td>\n",
              "      <td>...</td>\n",
              "      <td>1</td>\n",
              "      <td>Ot</td>\n",
              "      <td>Other servicers</td>\n",
              "      <td>0</td>\n",
              "      <td>0</td>\n",
              "      <td>38</td>\n",
              "      <td>0</td>\n",
              "      <td>0</td>\n",
              "      <td>0</td>\n",
              "      <td>26.019178</td>\n",
              "    </tr>\n",
              "    <tr>\n",
              "      <th>291449</th>\n",
              "      <td>845</td>\n",
              "      <td>1999-04-01</td>\n",
              "      <td>N</td>\n",
              "      <td>2029-03-01</td>\n",
              "      <td>37964</td>\n",
              "      <td>0</td>\n",
              "      <td>1</td>\n",
              "      <td>I</td>\n",
              "      <td>80</td>\n",
              "      <td>54</td>\n",
              "      <td>...</td>\n",
              "      <td>2</td>\n",
              "      <td>Ot</td>\n",
              "      <td>Other servicers</td>\n",
              "      <td>0</td>\n",
              "      <td>0</td>\n",
              "      <td>32</td>\n",
              "      <td>0</td>\n",
              "      <td>0</td>\n",
              "      <td>0</td>\n",
              "      <td>29.936986</td>\n",
              "    </tr>\n",
              "    <tr>\n",
              "      <th>291450</th>\n",
              "      <td>849</td>\n",
              "      <td>1999-03-01</td>\n",
              "      <td>N</td>\n",
              "      <td>2029-02-01</td>\n",
              "      <td>37964</td>\n",
              "      <td>0</td>\n",
              "      <td>1</td>\n",
              "      <td>O</td>\n",
              "      <td>47</td>\n",
              "      <td>29</td>\n",
              "      <td>...</td>\n",
              "      <td>2</td>\n",
              "      <td>Ot</td>\n",
              "      <td>Other servicers</td>\n",
              "      <td>0</td>\n",
              "      <td>0</td>\n",
              "      <td>29</td>\n",
              "      <td>0</td>\n",
              "      <td>2</td>\n",
              "      <td>0</td>\n",
              "      <td>29.945205</td>\n",
              "    </tr>\n",
              "  </tbody>\n",
              "</table>\n",
              "<p>291451 rows × 32 columns</p>\n",
              "</div>\n",
              "      <button class=\"colab-df-convert\" onclick=\"convertToInteractive('df-71271964-a215-418a-9e41-c4049beadbba')\"\n",
              "              title=\"Convert this dataframe to an interactive table.\"\n",
              "              style=\"display:none;\">\n",
              "        \n",
              "  <svg xmlns=\"http://www.w3.org/2000/svg\" height=\"24px\"viewBox=\"0 0 24 24\"\n",
              "       width=\"24px\">\n",
              "    <path d=\"M0 0h24v24H0V0z\" fill=\"none\"/>\n",
              "    <path d=\"M18.56 5.44l.94 2.06.94-2.06 2.06-.94-2.06-.94-.94-2.06-.94 2.06-2.06.94zm-11 1L8.5 8.5l.94-2.06 2.06-.94-2.06-.94L8.5 2.5l-.94 2.06-2.06.94zm10 10l.94 2.06.94-2.06 2.06-.94-2.06-.94-.94-2.06-.94 2.06-2.06.94z\"/><path d=\"M17.41 7.96l-1.37-1.37c-.4-.4-.92-.59-1.43-.59-.52 0-1.04.2-1.43.59L10.3 9.45l-7.72 7.72c-.78.78-.78 2.05 0 2.83L4 21.41c.39.39.9.59 1.41.59.51 0 1.02-.2 1.41-.59l7.78-7.78 2.81-2.81c.8-.78.8-2.07 0-2.86zM5.41 20L4 18.59l7.72-7.72 1.47 1.35L5.41 20z\"/>\n",
              "  </svg>\n",
              "      </button>\n",
              "      \n",
              "  <style>\n",
              "    .colab-df-container {\n",
              "      display:flex;\n",
              "      flex-wrap:wrap;\n",
              "      gap: 12px;\n",
              "    }\n",
              "\n",
              "    .colab-df-convert {\n",
              "      background-color: #E8F0FE;\n",
              "      border: none;\n",
              "      border-radius: 50%;\n",
              "      cursor: pointer;\n",
              "      display: none;\n",
              "      fill: #1967D2;\n",
              "      height: 32px;\n",
              "      padding: 0 0 0 0;\n",
              "      width: 32px;\n",
              "    }\n",
              "\n",
              "    .colab-df-convert:hover {\n",
              "      background-color: #E2EBFA;\n",
              "      box-shadow: 0px 1px 2px rgba(60, 64, 67, 0.3), 0px 1px 3px 1px rgba(60, 64, 67, 0.15);\n",
              "      fill: #174EA6;\n",
              "    }\n",
              "\n",
              "    [theme=dark] .colab-df-convert {\n",
              "      background-color: #3B4455;\n",
              "      fill: #D2E3FC;\n",
              "    }\n",
              "\n",
              "    [theme=dark] .colab-df-convert:hover {\n",
              "      background-color: #434B5C;\n",
              "      box-shadow: 0px 1px 3px 1px rgba(0, 0, 0, 0.15);\n",
              "      filter: drop-shadow(0px 1px 2px rgba(0, 0, 0, 0.3));\n",
              "      fill: #FFFFFF;\n",
              "    }\n",
              "  </style>\n",
              "\n",
              "      <script>\n",
              "        const buttonEl =\n",
              "          document.querySelector('#df-71271964-a215-418a-9e41-c4049beadbba button.colab-df-convert');\n",
              "        buttonEl.style.display =\n",
              "          google.colab.kernel.accessAllowed ? 'block' : 'none';\n",
              "\n",
              "        async function convertToInteractive(key) {\n",
              "          const element = document.querySelector('#df-71271964-a215-418a-9e41-c4049beadbba');\n",
              "          const dataTable =\n",
              "            await google.colab.kernel.invokeFunction('convertToInteractive',\n",
              "                                                     [key], {});\n",
              "          if (!dataTable) return;\n",
              "\n",
              "          const docLinkHtml = 'Like what you see? Visit the ' +\n",
              "            '<a target=\"_blank\" href=https://colab.research.google.com/notebooks/data_table.ipynb>data table notebook</a>'\n",
              "            + ' to learn more about interactive tables.';\n",
              "          element.innerHTML = '';\n",
              "          dataTable['output_type'] = 'display_data';\n",
              "          await google.colab.output.renderOutput(dataTable, element);\n",
              "          const docLink = document.createElement('div');\n",
              "          docLink.innerHTML = docLinkHtml;\n",
              "          element.appendChild(docLink);\n",
              "        }\n",
              "      </script>\n",
              "    </div>\n",
              "  </div>\n",
              "  "
            ]
          },
          "metadata": {},
          "execution_count": 10
        }
      ]
    },
    {
      "cell_type": "code",
      "source": [
        "df1=df[df[\"DTI\"]!=0]"
      ],
      "metadata": {
        "id": "JG3qlP9hijAx"
      },
      "execution_count": null,
      "outputs": []
    },
    {
      "cell_type": "code",
      "source": [
        "df1[\"monthly_rate\"]=df1['OrigInterestRate']/(12*100)\n",
        "df1[\"monthly_payment\"]=df1['OrigUPB']* ((df1[\"monthly_rate\"] * (1 + df1[\"monthly_rate\"] ) ** df1[\"OrigLoanTerm\"]) / \n",
        "    ((1 + df1[\"monthly_rate\"]) ** df1[\"OrigLoanTerm\"] - 1))"
      ],
      "metadata": {
        "id": "GkWelKawit8z"
      },
      "execution_count": null,
      "outputs": []
    },
    {
      "cell_type": "code",
      "source": [
        "df1.drop(['FirstPaymentDate','FirstTimeHomebuyer','MaturityDate','MSA', 'MIP', 'Units', 'Occupancy','LTV','Channel','ProductType', 'PropertyState','PropertyType', 'PostalCode', 'LoanSeqNum', 'LoanPurpose',\n",
        "         'NumBorrowers', 'SellerName', 'ServicerName'],axis=1,inplace=True)"
      ],
      "metadata": {
        "id": "kVs6Rt4zit_u"
      },
      "execution_count": null,
      "outputs": []
    },
    {
      "cell_type": "code",
      "source": [
        "df1['total_payment']= df1[\"monthly_payment\"] * df1[\"OrigLoanTerm\"] \n",
        "df1['interest_amount'] = df1['total_payment'] - df1['OrigUPB']\n",
        "df1[\"monthly_income\"]=df1[\"monthly_payment\"]*100/df1[\"DTI\"]"
      ],
      "metadata": {
        "id": "8kPyK8lDiuCV"
      },
      "execution_count": null,
      "outputs": []
    },
    {
      "cell_type": "code",
      "source": [
        "def principal(monthly_rate,amount,emi,month):\n",
        "  for i in range(month):\n",
        "    interest=monthly_rate*amount\n",
        "    p=emi-interest\n",
        "    amount-=p\n",
        "  return amount\n"
      ],
      "metadata": {
        "id": "6WL_OSQdiuEy"
      },
      "execution_count": null,
      "outputs": []
    },
    {
      "cell_type": "code",
      "source": [
        "  df1[\"cur_principal\"]=np.vectorize(principal)(df1[\"monthly_rate\"],df1['OrigUPB'],df1[\"monthly_payment\"],df1[\"MonthsInRepayment\"])\n"
      ],
      "metadata": {
        "id": "EceNWrLFlkWQ"
      },
      "execution_count": null,
      "outputs": []
    },
    {
      "cell_type": "code",
      "source": [
        "def prepay(dti,income,EverDelinquent,monthly_payment):\n",
        "  if(EverDelinquent==0):\n",
        "    if(dti<40):\n",
        "      p=income/2\n",
        "    else:\n",
        "      p=income*3/4\n",
        "    p=p-monthly_payment*24\n",
        "    return p\n",
        "  else:\n",
        "    p=0\n",
        "    return p\n",
        "\n",
        "df1[\"prepayment\"]=np.vectorize(prepay)(df1[\"DTI\"],df1['monthly_income']*24,df1[\"EverDelinquent\"],df1[\"monthly_payment\"])\n",
        "\n",
        "df1[\"new_principal\"]=df1[\"cur_principal\"]-df1[\"prepayment\"]"
      ],
      "metadata": {
        "id": "kX0oafi0iuHd"
      },
      "execution_count": null,
      "outputs": []
    },
    {
      "cell_type": "code",
      "source": [
        "df1.head(10)"
      ],
      "metadata": {
        "colab": {
          "base_uri": "https://localhost:8080/",
          "height": 456
        },
        "id": "DGSCTvKHC6m0",
        "outputId": "d585ee9a-47ee-4c2f-a035-3d7e1b5be031"
      },
      "execution_count": null,
      "outputs": [
        {
          "output_type": "execute_result",
          "data": {
            "text/plain": [
              "   CreditScore  OCLTV  DTI  OrigUPB  OrigInterestRate  PPM  OrigLoanTerm  \\\n",
              "0          850     89   27   117000             6.750    0           360   \n",
              "1          850     73   17   109000             6.500    0           360   \n",
              "2          850     75   16    88000             6.875    0           360   \n",
              "3          850     76   14   160000             6.875    0           360   \n",
              "4          850     78   18   109000             7.125    0           360   \n",
              "5          850     89   40   207000             7.125    0           360   \n",
              "6          850     90   21   111000             6.875    0           360   \n",
              "7          850     72   20    97000             6.750    0           360   \n",
              "8          850     95   38    55000             7.000    1           345   \n",
              "9          850     95   27    35000             7.125    0           360   \n",
              "\n",
              "   EverDelinquent  MonthsDelinquent  MonthsInRepayment  ...  RepayRange  \\\n",
              "0               0                 0                 52  ...           3   \n",
              "1               0                 0                144  ...           4   \n",
              "2               0                 0                 67  ...           3   \n",
              "3               0                 0                 35  ...           0   \n",
              "4               0                 0                 54  ...           3   \n",
              "5               0                 0                 42  ...           0   \n",
              "6               0                 0                 44  ...           0   \n",
              "7               1                 3                145  ...           1   \n",
              "8               0                 0                 64  ...           3   \n",
              "9               1               104                212  ...           2   \n",
              "\n",
              "   LoanTenure  monthly_rate  monthly_payment  total_payment  interest_amount  \\\n",
              "0   29.936986      0.005625       758.859773  273189.518275    156189.518275   \n",
              "1   29.936986      0.005417       688.954146  248023.492419    139023.492419   \n",
              "2   29.936986      0.005729       578.097356  208115.048172    120115.048172   \n",
              "3   29.936986      0.005729      1051.086102  378390.996677    218390.996677   \n",
              "4   29.936986      0.005938       734.353190  264367.148543    155367.148543   \n",
              "5   29.936986      0.005938      1394.597343  502055.043564    295055.043564   \n",
              "6   29.936986      0.005729       729.190983  262508.753945    151508.753945   \n",
              "7   29.936986      0.005625       629.140154  226490.455322    129490.455322   \n",
              "8   28.682192      0.005833       370.664718  127879.327577     72879.327577   \n",
              "9   29.936986      0.005938       235.801483   84888.533936     49888.533936   \n",
              "\n",
              "   monthly_income  cur_principal    prepayment  new_principal  \n",
              "0     2810.591752  110934.868922  15514.466470   95420.402452  \n",
              "1     4052.671445   87590.650220  32097.157842   55493.492378  \n",
              "2     3613.108475   81982.427803  29482.965158   52499.462645  \n",
              "3     7507.757871  154806.854416  64867.028002   89939.826414  \n",
              "4     4079.739947  103470.092916  31332.402790   72137.690126  \n",
              "5     3486.493358  199130.237052  29286.544208  169843.692844  \n",
              "6     3472.338015  106348.399957  24167.472585   82180.927372  \n",
              "7     3145.700768   78360.491200      0.000000   78360.491200  \n",
              "8      975.433467   51147.375583   2809.248386   48338.127196  \n",
              "9      873.338827   23177.755505      0.000000   23177.755505  \n",
              "\n",
              "[10 rows x 22 columns]"
            ],
            "text/html": [
              "\n",
              "  <div id=\"df-2a9fb62c-d622-4987-a16b-6279c5429104\">\n",
              "    <div class=\"colab-df-container\">\n",
              "      <div>\n",
              "<style scoped>\n",
              "    .dataframe tbody tr th:only-of-type {\n",
              "        vertical-align: middle;\n",
              "    }\n",
              "\n",
              "    .dataframe tbody tr th {\n",
              "        vertical-align: top;\n",
              "    }\n",
              "\n",
              "    .dataframe thead th {\n",
              "        text-align: right;\n",
              "    }\n",
              "</style>\n",
              "<table border=\"1\" class=\"dataframe\">\n",
              "  <thead>\n",
              "    <tr style=\"text-align: right;\">\n",
              "      <th></th>\n",
              "      <th>CreditScore</th>\n",
              "      <th>OCLTV</th>\n",
              "      <th>DTI</th>\n",
              "      <th>OrigUPB</th>\n",
              "      <th>OrigInterestRate</th>\n",
              "      <th>PPM</th>\n",
              "      <th>OrigLoanTerm</th>\n",
              "      <th>EverDelinquent</th>\n",
              "      <th>MonthsDelinquent</th>\n",
              "      <th>MonthsInRepayment</th>\n",
              "      <th>...</th>\n",
              "      <th>RepayRange</th>\n",
              "      <th>LoanTenure</th>\n",
              "      <th>monthly_rate</th>\n",
              "      <th>monthly_payment</th>\n",
              "      <th>total_payment</th>\n",
              "      <th>interest_amount</th>\n",
              "      <th>monthly_income</th>\n",
              "      <th>cur_principal</th>\n",
              "      <th>prepayment</th>\n",
              "      <th>new_principal</th>\n",
              "    </tr>\n",
              "  </thead>\n",
              "  <tbody>\n",
              "    <tr>\n",
              "      <th>0</th>\n",
              "      <td>850</td>\n",
              "      <td>89</td>\n",
              "      <td>27</td>\n",
              "      <td>117000</td>\n",
              "      <td>6.750</td>\n",
              "      <td>0</td>\n",
              "      <td>360</td>\n",
              "      <td>0</td>\n",
              "      <td>0</td>\n",
              "      <td>52</td>\n",
              "      <td>...</td>\n",
              "      <td>3</td>\n",
              "      <td>29.936986</td>\n",
              "      <td>0.005625</td>\n",
              "      <td>758.859773</td>\n",
              "      <td>273189.518275</td>\n",
              "      <td>156189.518275</td>\n",
              "      <td>2810.591752</td>\n",
              "      <td>110934.868922</td>\n",
              "      <td>15514.466470</td>\n",
              "      <td>95420.402452</td>\n",
              "    </tr>\n",
              "    <tr>\n",
              "      <th>1</th>\n",
              "      <td>850</td>\n",
              "      <td>73</td>\n",
              "      <td>17</td>\n",
              "      <td>109000</td>\n",
              "      <td>6.500</td>\n",
              "      <td>0</td>\n",
              "      <td>360</td>\n",
              "      <td>0</td>\n",
              "      <td>0</td>\n",
              "      <td>144</td>\n",
              "      <td>...</td>\n",
              "      <td>4</td>\n",
              "      <td>29.936986</td>\n",
              "      <td>0.005417</td>\n",
              "      <td>688.954146</td>\n",
              "      <td>248023.492419</td>\n",
              "      <td>139023.492419</td>\n",
              "      <td>4052.671445</td>\n",
              "      <td>87590.650220</td>\n",
              "      <td>32097.157842</td>\n",
              "      <td>55493.492378</td>\n",
              "    </tr>\n",
              "    <tr>\n",
              "      <th>2</th>\n",
              "      <td>850</td>\n",
              "      <td>75</td>\n",
              "      <td>16</td>\n",
              "      <td>88000</td>\n",
              "      <td>6.875</td>\n",
              "      <td>0</td>\n",
              "      <td>360</td>\n",
              "      <td>0</td>\n",
              "      <td>0</td>\n",
              "      <td>67</td>\n",
              "      <td>...</td>\n",
              "      <td>3</td>\n",
              "      <td>29.936986</td>\n",
              "      <td>0.005729</td>\n",
              "      <td>578.097356</td>\n",
              "      <td>208115.048172</td>\n",
              "      <td>120115.048172</td>\n",
              "      <td>3613.108475</td>\n",
              "      <td>81982.427803</td>\n",
              "      <td>29482.965158</td>\n",
              "      <td>52499.462645</td>\n",
              "    </tr>\n",
              "    <tr>\n",
              "      <th>3</th>\n",
              "      <td>850</td>\n",
              "      <td>76</td>\n",
              "      <td>14</td>\n",
              "      <td>160000</td>\n",
              "      <td>6.875</td>\n",
              "      <td>0</td>\n",
              "      <td>360</td>\n",
              "      <td>0</td>\n",
              "      <td>0</td>\n",
              "      <td>35</td>\n",
              "      <td>...</td>\n",
              "      <td>0</td>\n",
              "      <td>29.936986</td>\n",
              "      <td>0.005729</td>\n",
              "      <td>1051.086102</td>\n",
              "      <td>378390.996677</td>\n",
              "      <td>218390.996677</td>\n",
              "      <td>7507.757871</td>\n",
              "      <td>154806.854416</td>\n",
              "      <td>64867.028002</td>\n",
              "      <td>89939.826414</td>\n",
              "    </tr>\n",
              "    <tr>\n",
              "      <th>4</th>\n",
              "      <td>850</td>\n",
              "      <td>78</td>\n",
              "      <td>18</td>\n",
              "      <td>109000</td>\n",
              "      <td>7.125</td>\n",
              "      <td>0</td>\n",
              "      <td>360</td>\n",
              "      <td>0</td>\n",
              "      <td>0</td>\n",
              "      <td>54</td>\n",
              "      <td>...</td>\n",
              "      <td>3</td>\n",
              "      <td>29.936986</td>\n",
              "      <td>0.005938</td>\n",
              "      <td>734.353190</td>\n",
              "      <td>264367.148543</td>\n",
              "      <td>155367.148543</td>\n",
              "      <td>4079.739947</td>\n",
              "      <td>103470.092916</td>\n",
              "      <td>31332.402790</td>\n",
              "      <td>72137.690126</td>\n",
              "    </tr>\n",
              "    <tr>\n",
              "      <th>5</th>\n",
              "      <td>850</td>\n",
              "      <td>89</td>\n",
              "      <td>40</td>\n",
              "      <td>207000</td>\n",
              "      <td>7.125</td>\n",
              "      <td>0</td>\n",
              "      <td>360</td>\n",
              "      <td>0</td>\n",
              "      <td>0</td>\n",
              "      <td>42</td>\n",
              "      <td>...</td>\n",
              "      <td>0</td>\n",
              "      <td>29.936986</td>\n",
              "      <td>0.005938</td>\n",
              "      <td>1394.597343</td>\n",
              "      <td>502055.043564</td>\n",
              "      <td>295055.043564</td>\n",
              "      <td>3486.493358</td>\n",
              "      <td>199130.237052</td>\n",
              "      <td>29286.544208</td>\n",
              "      <td>169843.692844</td>\n",
              "    </tr>\n",
              "    <tr>\n",
              "      <th>6</th>\n",
              "      <td>850</td>\n",
              "      <td>90</td>\n",
              "      <td>21</td>\n",
              "      <td>111000</td>\n",
              "      <td>6.875</td>\n",
              "      <td>0</td>\n",
              "      <td>360</td>\n",
              "      <td>0</td>\n",
              "      <td>0</td>\n",
              "      <td>44</td>\n",
              "      <td>...</td>\n",
              "      <td>0</td>\n",
              "      <td>29.936986</td>\n",
              "      <td>0.005729</td>\n",
              "      <td>729.190983</td>\n",
              "      <td>262508.753945</td>\n",
              "      <td>151508.753945</td>\n",
              "      <td>3472.338015</td>\n",
              "      <td>106348.399957</td>\n",
              "      <td>24167.472585</td>\n",
              "      <td>82180.927372</td>\n",
              "    </tr>\n",
              "    <tr>\n",
              "      <th>7</th>\n",
              "      <td>850</td>\n",
              "      <td>72</td>\n",
              "      <td>20</td>\n",
              "      <td>97000</td>\n",
              "      <td>6.750</td>\n",
              "      <td>0</td>\n",
              "      <td>360</td>\n",
              "      <td>1</td>\n",
              "      <td>3</td>\n",
              "      <td>145</td>\n",
              "      <td>...</td>\n",
              "      <td>1</td>\n",
              "      <td>29.936986</td>\n",
              "      <td>0.005625</td>\n",
              "      <td>629.140154</td>\n",
              "      <td>226490.455322</td>\n",
              "      <td>129490.455322</td>\n",
              "      <td>3145.700768</td>\n",
              "      <td>78360.491200</td>\n",
              "      <td>0.000000</td>\n",
              "      <td>78360.491200</td>\n",
              "    </tr>\n",
              "    <tr>\n",
              "      <th>8</th>\n",
              "      <td>850</td>\n",
              "      <td>95</td>\n",
              "      <td>38</td>\n",
              "      <td>55000</td>\n",
              "      <td>7.000</td>\n",
              "      <td>1</td>\n",
              "      <td>345</td>\n",
              "      <td>0</td>\n",
              "      <td>0</td>\n",
              "      <td>64</td>\n",
              "      <td>...</td>\n",
              "      <td>3</td>\n",
              "      <td>28.682192</td>\n",
              "      <td>0.005833</td>\n",
              "      <td>370.664718</td>\n",
              "      <td>127879.327577</td>\n",
              "      <td>72879.327577</td>\n",
              "      <td>975.433467</td>\n",
              "      <td>51147.375583</td>\n",
              "      <td>2809.248386</td>\n",
              "      <td>48338.127196</td>\n",
              "    </tr>\n",
              "    <tr>\n",
              "      <th>9</th>\n",
              "      <td>850</td>\n",
              "      <td>95</td>\n",
              "      <td>27</td>\n",
              "      <td>35000</td>\n",
              "      <td>7.125</td>\n",
              "      <td>0</td>\n",
              "      <td>360</td>\n",
              "      <td>1</td>\n",
              "      <td>104</td>\n",
              "      <td>212</td>\n",
              "      <td>...</td>\n",
              "      <td>2</td>\n",
              "      <td>29.936986</td>\n",
              "      <td>0.005938</td>\n",
              "      <td>235.801483</td>\n",
              "      <td>84888.533936</td>\n",
              "      <td>49888.533936</td>\n",
              "      <td>873.338827</td>\n",
              "      <td>23177.755505</td>\n",
              "      <td>0.000000</td>\n",
              "      <td>23177.755505</td>\n",
              "    </tr>\n",
              "  </tbody>\n",
              "</table>\n",
              "<p>10 rows × 22 columns</p>\n",
              "</div>\n",
              "      <button class=\"colab-df-convert\" onclick=\"convertToInteractive('df-2a9fb62c-d622-4987-a16b-6279c5429104')\"\n",
              "              title=\"Convert this dataframe to an interactive table.\"\n",
              "              style=\"display:none;\">\n",
              "        \n",
              "  <svg xmlns=\"http://www.w3.org/2000/svg\" height=\"24px\"viewBox=\"0 0 24 24\"\n",
              "       width=\"24px\">\n",
              "    <path d=\"M0 0h24v24H0V0z\" fill=\"none\"/>\n",
              "    <path d=\"M18.56 5.44l.94 2.06.94-2.06 2.06-.94-2.06-.94-.94-2.06-.94 2.06-2.06.94zm-11 1L8.5 8.5l.94-2.06 2.06-.94-2.06-.94L8.5 2.5l-.94 2.06-2.06.94zm10 10l.94 2.06.94-2.06 2.06-.94-2.06-.94-.94-2.06-.94 2.06-2.06.94z\"/><path d=\"M17.41 7.96l-1.37-1.37c-.4-.4-.92-.59-1.43-.59-.52 0-1.04.2-1.43.59L10.3 9.45l-7.72 7.72c-.78.78-.78 2.05 0 2.83L4 21.41c.39.39.9.59 1.41.59.51 0 1.02-.2 1.41-.59l7.78-7.78 2.81-2.81c.8-.78.8-2.07 0-2.86zM5.41 20L4 18.59l7.72-7.72 1.47 1.35L5.41 20z\"/>\n",
              "  </svg>\n",
              "      </button>\n",
              "      \n",
              "  <style>\n",
              "    .colab-df-container {\n",
              "      display:flex;\n",
              "      flex-wrap:wrap;\n",
              "      gap: 12px;\n",
              "    }\n",
              "\n",
              "    .colab-df-convert {\n",
              "      background-color: #E8F0FE;\n",
              "      border: none;\n",
              "      border-radius: 50%;\n",
              "      cursor: pointer;\n",
              "      display: none;\n",
              "      fill: #1967D2;\n",
              "      height: 32px;\n",
              "      padding: 0 0 0 0;\n",
              "      width: 32px;\n",
              "    }\n",
              "\n",
              "    .colab-df-convert:hover {\n",
              "      background-color: #E2EBFA;\n",
              "      box-shadow: 0px 1px 2px rgba(60, 64, 67, 0.3), 0px 1px 3px 1px rgba(60, 64, 67, 0.15);\n",
              "      fill: #174EA6;\n",
              "    }\n",
              "\n",
              "    [theme=dark] .colab-df-convert {\n",
              "      background-color: #3B4455;\n",
              "      fill: #D2E3FC;\n",
              "    }\n",
              "\n",
              "    [theme=dark] .colab-df-convert:hover {\n",
              "      background-color: #434B5C;\n",
              "      box-shadow: 0px 1px 3px 1px rgba(0, 0, 0, 0.15);\n",
              "      filter: drop-shadow(0px 1px 2px rgba(0, 0, 0, 0.3));\n",
              "      fill: #FFFFFF;\n",
              "    }\n",
              "  </style>\n",
              "\n",
              "      <script>\n",
              "        const buttonEl =\n",
              "          document.querySelector('#df-2a9fb62c-d622-4987-a16b-6279c5429104 button.colab-df-convert');\n",
              "        buttonEl.style.display =\n",
              "          google.colab.kernel.accessAllowed ? 'block' : 'none';\n",
              "\n",
              "        async function convertToInteractive(key) {\n",
              "          const element = document.querySelector('#df-2a9fb62c-d622-4987-a16b-6279c5429104');\n",
              "          const dataTable =\n",
              "            await google.colab.kernel.invokeFunction('convertToInteractive',\n",
              "                                                     [key], {});\n",
              "          if (!dataTable) return;\n",
              "\n",
              "          const docLinkHtml = 'Like what you see? Visit the ' +\n",
              "            '<a target=\"_blank\" href=https://colab.research.google.com/notebooks/data_table.ipynb>data table notebook</a>'\n",
              "            + ' to learn more about interactive tables.';\n",
              "          element.innerHTML = '';\n",
              "          dataTable['output_type'] = 'display_data';\n",
              "          await google.colab.output.renderOutput(dataTable, element);\n",
              "          const docLink = document.createElement('div');\n",
              "          docLink.innerHTML = docLinkHtml;\n",
              "          element.appendChild(docLink);\n",
              "        }\n",
              "      </script>\n",
              "    </div>\n",
              "  </div>\n",
              "  "
            ]
          },
          "metadata": {},
          "execution_count": 18
        }
      ]
    },
    {
      "cell_type": "code",
      "source": [
        "def tenure(monthly_rate,amount,emi):\n",
        "  c=0\n",
        "  while(1):\n",
        "    interest=monthly_rate*amount\n",
        "    p=emi-interest\n",
        "    amount-=p\n",
        "    c+=1\n",
        "    if(amount<0):\n",
        "      break\n",
        "  return c-1\n",
        "\n"
      ],
      "metadata": {
        "id": "lKvdukTXiuJ3"
      },
      "execution_count": null,
      "outputs": []
    },
    {
      "cell_type": "code",
      "source": [
        "df1[\"rest_tenure\"]=np.vectorize(tenure)(df1[\"monthly_rate\"],df1['new_principal'],df1[\"monthly_payment\"])\n",
        "df1['new_tenure']=df1[\"rest_tenure\"]+df1['MonthsInRepayment']"
      ],
      "metadata": {
        "id": "fDnYo3Fglu6z"
      },
      "execution_count": null,
      "outputs": []
    },
    {
      "cell_type": "code",
      "source": [
        "def new_interest1(monthly_rate,amount,emi,month):\n",
        "  t_i=0\n",
        "  for i in range(month):\n",
        "    interest=monthly_rate*amount\n",
        "    p=emi-interest\n",
        "    amount-=p\n",
        "    t_i+=interest\n",
        "  return t_i\n",
        "def new_interest2(monthly_rate,amount,emi,month):\n",
        "  t_i=0\n",
        "  for i in range(month-1):\n",
        "    interest=monthly_rate*amount\n",
        "    p=emi-interest\n",
        "    amount-=p\n",
        "    t_i+=interest\n",
        "  return t_i\n"
      ],
      "metadata": {
        "id": "uHBE3tNyiuL3"
      },
      "execution_count": null,
      "outputs": []
    },
    {
      "cell_type": "code",
      "source": [
        "df1[\"intrest_b_p\"]=np.vectorize(new_interest1)(df1[\"monthly_rate\"],df1['OrigUPB'],df1[\"monthly_payment\"],df1[\"MonthsInRepayment\"])\n",
        "df1[\"intrest_a_p\"]=np.vectorize(new_interest2)(df1[\"monthly_rate\"],df1['new_principal'],df1[\"monthly_payment\"],df1[\"rest_tenure\"])\n",
        "df1['new_tot_interest']=df1[\"intrest_b_p\"]+df1[\"intrest_a_p\"]\n",
        "df1.drop(['monthly_rate','monthly_income','cur_principal','new_principal', 'rest_tenure','intrest_b_p',\n",
        "       'intrest_a_p'],axis=1,inplace=True)\n",
        "df1[\"loss_tb\"]=df1['interest_amount']-df1['new_tot_interest']\n",
        "df1[\"ROI\"]=df1['interest_amount']/df1[\"total_payment\"]\n",
        "df1[\"Prefered_Roi\"]=(df1[\"new_tot_interest\"]+(df1[\"loss_tb\"]/2))/(df1[\"new_tot_interest\"]+(df1[\"loss_tb\"]/2)+df1['OrigUPB'])"
      ],
      "metadata": {
        "id": "w98LzodGl6pg"
      },
      "execution_count": null,
      "outputs": []
    },
    {
      "cell_type": "code",
      "source": [
        "df1.columns"
      ],
      "metadata": {
        "colab": {
          "base_uri": "https://localhost:8080/"
        },
        "id": "cs0xKSAQmCGf",
        "outputId": "4f8b7d5a-cbdb-4f14-ecaf-a5afe1b4c12a"
      },
      "execution_count": null,
      "outputs": [
        {
          "output_type": "execute_result",
          "data": {
            "text/plain": [
              "Index(['CreditScore', 'OCLTV', 'DTI', 'OrigUPB', 'OrigInterestRate', 'PPM',\n",
              "       'OrigLoanTerm', 'EverDelinquent', 'MonthsDelinquent',\n",
              "       'MonthsInRepayment', 'CreditRange', 'LTVRange', 'RepayRange',\n",
              "       'LoanTenure', 'monthly_payment', 'total_payment', 'interest_amount',\n",
              "       'prepayment', 'new_tenure', 'new_tot_interest', 'loss_tb', 'ROI',\n",
              "       'Prefered_Roi'],\n",
              "      dtype='object')"
            ]
          },
          "metadata": {},
          "execution_count": 23
        }
      ]
    },
    {
      "cell_type": "code",
      "source": [
        "df1.drop(['total_payment','interest_amount'],axis=1,inplace=True)\n"
      ],
      "metadata": {
        "id": "N66dfDcXnJl3"
      },
      "execution_count": null,
      "outputs": []
    },
    {
      "cell_type": "markdown",
      "source": [
        "##2. X,y split"
      ],
      "metadata": {
        "id": "UG_rlCvPsbmR"
      }
    },
    {
      "cell_type": "code",
      "source": [
        "X=df1.drop(['EverDelinquent','Prefered_Roi','prepayment'],axis=1)\n",
        "y=df1[['EverDelinquent','Prefered_Roi','prepayment']]\n",
        "\n",
        "for colname in X.select_dtypes('float64'):\n",
        "    X[colname], _ = X[colname].factorize()\n",
        "discrete_features = X.dtypes == np.int64\n"
      ],
      "metadata": {
        "id": "WB1NtziRoLAk"
      },
      "execution_count": null,
      "outputs": []
    },
    {
      "cell_type": "markdown",
      "source": [
        "##3. Feature Selection"
      ],
      "metadata": {
        "id": "ht-N3uCftE5D"
      }
    },
    {
      "cell_type": "code",
      "source": [
        "# Calculating MI scores for data set Features\n",
        "xx=df1.drop(['EverDelinquent'],axis=1)\n",
        "yy=df1['EverDelinquent']\n",
        "\n",
        "for colname in xx.select_dtypes('float64'):\n",
        "    xx[colname], _ = xx[colname].factorize()\n",
        "discrete_features = xx.dtypes == np.int64\n",
        "\n",
        "\n",
        "from sklearn.feature_selection import mutual_info_classif\n",
        "\n",
        "mi_scores = mutual_info_classif(xx, yy)\n",
        "mi_scores = pd.Series(mi_scores,name=\"MI Scores\", index=xx.columns)\n",
        "mi_scores = mi_scores.sort_values(ascending=False)\n",
        "mi_scores"
      ],
      "metadata": {
        "colab": {
          "base_uri": "https://localhost:8080/"
        },
        "id": "TnWBOE2atBmc",
        "outputId": "fdc4651d-c5bb-4973-80b8-09203ed99570"
      },
      "execution_count": null,
      "outputs": [
        {
          "output_type": "execute_result",
          "data": {
            "text/plain": [
              "MonthsDelinquent     0.502737\n",
              "prepayment           0.502383\n",
              "new_tenure           0.500807\n",
              "Prefered_Roi         0.486410\n",
              "loss_tb              0.311937\n",
              "new_tot_interest     0.311912\n",
              "OrigLoanTerm         0.043155\n",
              "CreditRange          0.042703\n",
              "CreditScore          0.034868\n",
              "RepayRange           0.033623\n",
              "MonthsInRepayment    0.031821\n",
              "LoanTenure           0.010803\n",
              "OCLTV                0.006335\n",
              "OrigInterestRate     0.004873\n",
              "ROI                  0.004240\n",
              "monthly_payment      0.003922\n",
              "OrigUPB              0.003521\n",
              "DTI                  0.002357\n",
              "LTVRange             0.000610\n",
              "PPM                  0.000510\n",
              "Name: MI Scores, dtype: float64"
            ]
          },
          "metadata": {},
          "execution_count": 26
        }
      ]
    },
    {
      "cell_type": "markdown",
      "source": [
        "##4. Train,Test Split"
      ],
      "metadata": {
        "id": "GShQdbCxth9n"
      }
    },
    {
      "cell_type": "code",
      "source": [
        "X=df1.drop(['EverDelinquent','Prefered_Roi','prepayment'],axis=1)\n",
        "y=df1[['EverDelinquent','Prefered_Roi','prepayment']]\n",
        "\n",
        "X_train,X_test,y_train,y_test = train_test_split(X,y, test_size=0.2, random_state=1)\n",
        "\n",
        "# Separating Target values for classifications and regression problems\n",
        "y_class_train = y_train.iloc[:,0]\n",
        "y_class_test = y_test.iloc[:,0]\n",
        "\n",
        "y_reg_test = y_test.iloc[:,1:]\n",
        "y_reg_train = y_train.iloc[:,1:]"
      ],
      "metadata": {
        "id": "ZLPZRL9StBuX"
      },
      "execution_count": null,
      "outputs": []
    },
    {
      "cell_type": "markdown",
      "source": [
        "##5. Data Preprocessing"
      ],
      "metadata": {
        "id": "vi5vUJdUuHCR"
      }
    },
    {
      "cell_type": "code",
      "source": [
        "#Applying SMOTE for handling imbalance data\n",
        "smote = SMOTE()\n",
        "#checking shape of the data\n",
        "from collections import Counter\n",
        "print(\"Before Over Sampling shape of X_train :\" , X_train.shape)\n",
        "print(\"Before Over Sampling shape of y_train :\" , y_class_train.shape)\n",
        "counter = Counter(y_class_train)\n",
        "print('Before',counter)\n",
        "#Applying SMOTE for handling Imbalance data.\n",
        "from imblearn.over_sampling import SMOTE\n",
        "smote = SMOTE()\n",
        "X_train_sm,y_train_sm = smote.fit_resample(X_train,y_class_train)\n",
        "print(\"After Over Sampling shape of X_train :\", X_train_sm.shape)\n",
        "print(\"After Over Sampling shape of y_train :\", y_train_sm.shape)\n",
        "counter = Counter(y_train_sm)\n",
        "print('After',counter)\n",
        "scaler = MinMaxScaler()"
      ],
      "metadata": {
        "colab": {
          "base_uri": "https://localhost:8080/"
        },
        "id": "5H7BFQo-uMec",
        "outputId": "e9953174-21d1-4b9f-c19e-86bac625c68b"
      },
      "execution_count": null,
      "outputs": [
        {
          "output_type": "stream",
          "name": "stdout",
          "text": [
            "Before Over Sampling shape of X_train : (218924, 18)\n",
            "Before Over Sampling shape of y_train : (218924,)\n",
            "Before Counter({0: 174792, 1: 44132})\n",
            "After Over Sampling shape of X_train : (349584, 18)\n",
            "After Over Sampling shape of y_train : (349584,)\n",
            "After Counter({0: 174792, 1: 174792})\n"
          ]
        }
      ]
    },
    {
      "cell_type": "markdown",
      "source": [
        "##Classification Pipeline"
      ],
      "metadata": {
        "id": "8gIFpXR0uPx8"
      }
    },
    {
      "cell_type": "code",
      "source": [
        "#@title Logistic Regression \n",
        "from sklearn.linear_model import LogisticRegression\n",
        "from sklearn import metrics"
      ],
      "metadata": {
        "id": "QpyBLmDIcUAH"
      },
      "execution_count": null,
      "outputs": []
    },
    {
      "cell_type": "code",
      "source": [
        "X_train.head()"
      ],
      "metadata": {
        "id": "DEPFp01dhkwh"
      },
      "execution_count": null,
      "outputs": []
    },
    {
      "cell_type": "code",
      "source": [
        "#instantiate the model\n",
        "log_reg = LogisticRegression()\n",
        "\n",
        "\n",
        "model_log_reg = Pipeline([\n",
        "    ('my_scalar', MinMaxScaler()),\n",
        "    ('pca', PCA(n_components=7)),\n",
        "    ('log_reg', log_reg)\n",
        "]) \n",
        "\n",
        "#fit the model using the training data\n",
        "model_log_reg.fit(X_train,y_class_train)\n",
        "\n",
        "#use model to make predictions on test data\n",
        "y_pred = model_log_reg.predict(X_test)"
      ],
      "metadata": {
        "id": "o6PwdkBFcUKP"
      },
      "execution_count": null,
      "outputs": []
    },
    {
      "cell_type": "code",
      "source": [
        "from sklearn.metrics import plot_confusion_matrix\n",
        "plot_confusion_matrix(model_log_reg,X_test,y_class_test)\n",
        "plt.show"
      ],
      "metadata": {
        "id": "QtXfV-xRcUQb",
        "colab": {
          "base_uri": "https://localhost:8080/",
          "height": 296
        },
        "outputId": "72e5c3c4-6991-4a4c-b1dc-b8e9e46eec84"
      },
      "execution_count": null,
      "outputs": [
        {
          "output_type": "execute_result",
          "data": {
            "text/plain": [
              "<function matplotlib.pyplot.show(close=None, block=None)>"
            ]
          },
          "metadata": {},
          "execution_count": 31
        },
        {
          "output_type": "display_data",
          "data": {
            "text/plain": [
              "<Figure size 432x288 with 2 Axes>"
            ],
            "image/png": "[encoded data removed]"
          },
          "metadata": {
            "needs_background": "light"
          }
        }
      ]
    },
    {
      "cell_type": "code",
      "source": [
        "from sklearn.metrics import accuracy_score\n",
        "print('Model accuracy score: {0:0.4f}'. format(accuracy_score(y_class_test, y_pred)))"
      ],
      "metadata": {
        "id": "KgMn-FzdclHs",
        "colab": {
          "base_uri": "https://localhost:8080/"
        },
        "outputId": "83c4b993-3fad-4058-e401-5d94f976bc8f"
      },
      "execution_count": null,
      "outputs": [
        {
          "output_type": "stream",
          "name": "stdout",
          "text": [
            "Model accuracy score: 0.8487\n"
          ]
        }
      ]
    },
    {
      "cell_type": "code",
      "source": [
        "print('Predicted value of y1 is:', y_pred)"
      ],
      "metadata": {
        "colab": {
          "base_uri": "https://localhost:8080/"
        },
        "id": "YjCBT08D8Fx4",
        "outputId": "f187832a-6d86-451d-bdc0-dc1282c8244a"
      },
      "execution_count": null,
      "outputs": [
        {
          "output_type": "stream",
          "name": "stdout",
          "text": [
            "Predicted value of y1 is: [0 0 0 ... 0 0 0]\n"
          ]
        }
      ]
    },
    {
      "cell_type": "markdown",
      "source": [
        "Using Logistic Regression we have achieved 85% accuracy for testing data"
      ],
      "metadata": {
        "id": "UK7KPp9fcqq4"
      }
    },
    {
      "cell_type": "code",
      "source": [
        "from sklearn.metrics import classification_report\n",
        "print(classification_report(y_class_test, y_pred))"
      ],
      "metadata": {
        "id": "lyCaV_pkclKi",
        "colab": {
          "base_uri": "https://localhost:8080/"
        },
        "outputId": "9d3fa545-82f1-480a-f42a-5b14a5c43ce2"
      },
      "execution_count": null,
      "outputs": [
        {
          "output_type": "stream",
          "name": "stdout",
          "text": [
            "              precision    recall  f1-score   support\n",
            "\n",
            "           0       0.88      0.94      0.91     43733\n",
            "           1       0.67      0.48      0.56     10998\n",
            "\n",
            "    accuracy                           0.85     54731\n",
            "   macro avg       0.78      0.71      0.73     54731\n",
            "weighted avg       0.84      0.85      0.84     54731\n",
            "\n"
          ]
        }
      ]
    },
    {
      "cell_type": "code",
      "source": [
        "from sklearn.metrics import roc_auc_score\n",
        "from sklearn.metrics import roc_curve\n",
        "logit_roc_auc = roc_auc_score(y_class_test, model_log_reg.predict(X_test))\n",
        "fpr, tpr, thresholds = metrics.roc_curve(y_class_test, model_log_reg.predict_proba(X_test)[:,1])\n",
        "auc = metrics.auc(fpr, tpr)\n",
        "print(\"AUC:\", auc)\n",
        "\n",
        "plt.plot(fpr, tpr, label='ROC curve (area = %.2f)' %auc)\n",
        "plt.plot([0, 1], [0, 1], linestyle = '--', lw=2, color = 'r', label = 'Random guess')\n",
        "plt.title('ROC curve')\n",
        "plt.xlabel('False Positive Rate')\n",
        "plt.ylabel('True Positive Rate')\n",
        "plt.grid()\n",
        "plt.legend()\n",
        "plt.show()"
      ],
      "metadata": {
        "id": "ETaOCtD1clNf",
        "colab": {
          "base_uri": "https://localhost:8080/",
          "height": 312
        },
        "outputId": "8bd4c861-8c5b-477d-9447-a721d3208b0a"
      },
      "execution_count": null,
      "outputs": [
        {
          "output_type": "stream",
          "name": "stdout",
          "text": [
            "AUC: 0.8928705779034491\n"
          ]
        },
        {
          "output_type": "display_data",
          "data": {
            "text/plain": [
              "<Figure size 432x288 with 1 Axes>"
            ],
            "image/png": "[encoded data removed]"
          },
          "metadata": {
            "needs_background": "light"
          }
        }
      ]
    },
    {
      "cell_type": "code",
      "source": [],
      "metadata": {
        "id": "d8-usxMf-ccJ"
      },
      "execution_count": null,
      "outputs": []
    },
    {
      "cell_type": "code",
      "source": [
        "from sklearn.model_selection import cross_val_score\n",
        "scores = cross_val_score(model_log_reg, X, df1[['EverDelinquent']], cv= 10)\n",
        "scores.sort()\n",
        "accuracy = scores.mean()\n",
        "\n",
        "print(scores)\n",
        "print(accuracy)"
      ],
      "metadata": {
        "id": "lRCupRtuclQL",
        "colab": {
          "base_uri": "https://localhost:8080/"
        },
        "outputId": "7ae35a8b-a7e6-40e5-8a2c-ab05b77b3b95"
      },
      "execution_count": null,
      "outputs": [
        {
          "output_type": "stream",
          "name": "stdout",
          "text": [
            "[0.65595995 0.80223635 0.80858761 0.81173031 0.81374699 0.82985566\n",
            " 0.84202448 0.84838297 0.85145801 0.8524081 ]\n",
            "0.8116390432691448\n"
          ]
        }
      ]
    },
    {
      "cell_type": "markdown",
      "source": [
        "##Ridge Regression"
      ],
      "metadata": {
        "id": "damO1lZPbpDp"
      }
    },
    {
      "cell_type": "code",
      "source": [
        "\n",
        "\n",
        "# training model with 0.5 alpha value\n",
        "ridg = Ridge(alpha = 0.5, normalize = False, tol = 0.001, \\\n",
        "              solver ='auto', random_state = 1)\n",
        "model_ridg = Pipeline([\n",
        "    ('my_scalar', StandardScaler()),\n",
        "    ('Ridge_reg',ridg)\n",
        "]) \n",
        "\n",
        "model_ridg.fit(X_train, y_reg_train)\n",
        "  \n",
        "# predicting the y_test\n",
        "y_pred = model_ridg.predict(X_test)\n",
        "  \n",
        "# finding score for our model\n",
        "score = model_ridg.score(X_test, y_reg_test)\n",
        "print(\"\\n\\nModel score : \", score)"
      ],
      "metadata": {
        "id": "b3mrfyJgbn9P",
        "colab": {
          "base_uri": "https://localhost:8080/"
        },
        "outputId": "f16572f6-20e9-4653-8e8c-308bfe634f99"
      },
      "execution_count": null,
      "outputs": [
        {
          "output_type": "stream",
          "name": "stdout",
          "text": [
            "\n",
            "\n",
            "Model score :  0.7818454895263768\n"
          ]
        }
      ]
    },
    {
      "cell_type": "markdown",
      "source": [
        "Using Ridge Regression we have achieved 78% accuracy for testing data"
      ],
      "metadata": {
        "id": "-V_I9IMx8TUx"
      }
    },
    {
      "cell_type": "code",
      "source": [
        "X_test.columns"
      ],
      "metadata": {
        "colab": {
          "base_uri": "https://localhost:8080/"
        },
        "id": "DI4sqpY__WM9",
        "outputId": "75f2189b-64a1-4cd4-ba04-ca13a414b28c"
      },
      "execution_count": null,
      "outputs": [
        {
          "output_type": "execute_result",
          "data": {
            "text/plain": [
              "Index(['CreditScore', 'OCLTV', 'DTI', 'OrigUPB', 'OrigInterestRate', 'PPM',\n",
              "       'OrigLoanTerm', 'MonthsDelinquent', 'MonthsInRepayment', 'CreditRange',\n",
              "       'LTVRange', 'RepayRange', 'LoanTenure', 'monthly_payment', 'new_tenure',\n",
              "       'new_tot_interest', 'loss_tb', 'ROI'],\n",
              "      dtype='object')"
            ]
          },
          "metadata": {},
          "execution_count": 38
        }
      ]
    },
    {
      "cell_type": "markdown",
      "source": [
        "##Saving Model"
      ],
      "metadata": {
        "id": "iCKKDNToZzG6"
      }
    },
    {
      "cell_type": "code",
      "source": [
        "#pickle.dump(model_ridg, open('/content/drive/MyDrive/models/ridge.pkl','wb'))\n",
        "#pickle.dump(model_log_reg, open('/content/drive/MyDrive/models/log_reg.pkl','wb'))"
      ],
      "metadata": {
        "id": "S662YoWcZwBz"
      },
      "execution_count": null,
      "outputs": []
    },
    {
      "cell_type": "code",
      "source": [
        "# to load the model :\n",
        "# pickled_model = pickle.load(open('model.pkl', 'rb'))\n",
        "# pickled_model.predict(X_test)"
      ],
      "metadata": {
        "id": "m2HUzeo_a7bN"
      },
      "execution_count": null,
      "outputs": []
    },
    {
      "cell_type": "code",
      "source": [],
      "metadata": {
        "id": "gw0jwt6H6zib"
      },
      "execution_count": null,
      "outputs": []
    }
  ],
  "metadata": {
    "colab": {
      "provenance": []
    },
    "kernelspec": {
      "display_name": "Python 3",
      "name": "python3"
    },
    "language_info": {
      "name": "python"
    }
  },
  "nbformat": 4,
  "nbformat_minor": 0
}